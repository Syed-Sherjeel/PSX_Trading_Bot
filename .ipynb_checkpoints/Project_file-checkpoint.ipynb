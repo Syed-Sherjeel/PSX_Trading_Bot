{
 "cells": [
  {
   "cell_type": "markdown",
   "metadata": {},
   "source": [
    "**<center>Stock Market Trading Bot</center>**"
   ]
  },
  {
   "cell_type": "markdown",
   "metadata": {},
   "source": [
    "# Table of contents\n",
    "\n",
    "* [OHLC Data]() \n",
    "    * [Loading Data](#OHLC_Load)\n",
    "    * [Plotting Data](#Plt)\n",
    "    * [Descriptive Statistics](#desc)\n",
    "    * [Inferential Statistics](#Inf)\n",
    "    * [Trading FrameWork](#Tf)\n",
    "    * [Trade Log](#Tl)\n",
    "    * [Unit Testing](#Ut)\n",
    "* [Per Trade Data]()\n",
    "    * [Loading Data](#pt)\n",
    "    * [Combining Date Time](#dt)\n",
    "    * [Cleaning Data](#Clean)\n",
    "    * [Data Cube](#DataCube)\n",
    "    * [PortFoilio Optimization](#MPT)"
   ]
  },
  {
   "cell_type": "markdown",
   "metadata": {},
   "source": [
    "# Importing libraries"
   ]
  },
  {
   "cell_type": "code",
   "execution_count": null,
   "metadata": {},
   "outputs": [],
   "source": [
    "!pip install plotly\n",
    "!pip install PyPortfolioOpt"
   ]
  },
  {
   "cell_type": "code",
   "execution_count": 99,
   "metadata": {},
   "outputs": [],
   "source": [
    "import csv\n",
    "import time\n",
    "import math\n",
    "import numpy as np\n",
    "import pandas as pd\n",
    "import seaborn as sns\n",
    "from scipy import stats\n",
    "import matplotlib as mpl\n",
    "from pypfopt.cla import CLA\n",
    "from pypfopt.cla import CLA\n",
    "from datetime import datetime\n",
    "import matplotlib.pyplot as plt\n",
    "from pypfopt import risk_models\n",
    "from pypfopt import expected_returns\n",
    "from pypfopt import discrete_allocation\n",
    "from matplotlib.ticker import FuncFormatter\n",
    "from pypfopt.efficient_frontier import EfficientFrontier "
   ]
  },
  {
   "cell_type": "markdown",
   "metadata": {},
   "source": [
    "# Data Source"
   ]
  },
  {
   "cell_type": "markdown",
   "metadata": {},
   "source": [
    "[Data Source](https://www.kaggle.com/ghazanfarali/ksedataset?select=UBL.csv) \n",
    "[Data Source](https://www.kaggle.com/arsalanjaved/pakistan-stock-exchange)"
   ]
  },
  {
   "cell_type": "markdown",
   "metadata": {},
   "source": [
    "# Loading data <a name='OHLC_Load'></a>"
   ]
  },
  {
   "cell_type": "code",
   "execution_count": null,
   "metadata": {},
   "outputs": [],
   "source": [
    "UBL=pd.read_csv('Data/UBL.csv',index_col='Date',parse_dates=True)\n",
    "HBL=pd.read_csv('Data/HBL.csv',index_col='Date',parse_dates=True)\n",
    "NBP=pd.read_csv('Data/NBP.csv',index_col='Date',parse_dates=True)\n",
    "MEBL=pd.read_csv('Data/MEBL.csv',index_col='Date',parse_dates=True)\n",
    "UBL.head()"
   ]
  },
  {
   "cell_type": "markdown",
   "metadata": {},
   "source": [
    "# Plotting Data <a name='Plt'></a>"
   ]
  },
  {
   "cell_type": "code",
   "execution_count": null,
   "metadata": {
    "scrolled": false
   },
   "outputs": [],
   "source": [
    "plt.figure(figsize=(12,8))\n",
    "sns.lineplot(data=UBL.Close,label='UBL')\n",
    "sns.lineplot(data=HBL.Close,label='HBL')\n",
    "sns.lineplot(data=MEBL.Close,label='MEBL')\n",
    "sns.lineplot(data=NBP.Close,label='NBP')\n",
    "plt.xlabel('Date',fontsize=15)\n",
    "plt.ylabel('Closing Price',fontsize=15)\n",
    "plt.title('Trend of Share Price of different KSE-30 Companies',fontsize=15)"
   ]
  },
  {
   "cell_type": "markdown",
   "metadata": {},
   "source": [
    "## Dropping redundant feature"
   ]
  },
  {
   "cell_type": "code",
   "execution_count": null,
   "metadata": {},
   "outputs": [],
   "source": [
    "UBL.drop('Symbol',axis=1,inplace=True)\n",
    "MEBL.drop('Symbol',axis=1,inplace=True)\n",
    "NBP.drop('Symbol',axis=1,inplace=True)\n",
    "HBL.drop('Symbol',axis=1,inplace=True)"
   ]
  },
  {
   "cell_type": "markdown",
   "metadata": {},
   "source": [
    "## Changing column names in order to facilitate merge"
   ]
  },
  {
   "cell_type": "code",
   "execution_count": null,
   "metadata": {},
   "outputs": [],
   "source": [
    "UBL.columns=['UBL_Open','UBL_High','UBL_Low','UBL_Close','UBL_Volume']\n",
    "MEBL.columns=['MEBL_Open','MEBL_High','MEBL_Low','MEBL_Close','MEBL_Volume']\n",
    "HBL.columns=['HBL_Open','HBL_High','HBL_Low','HBL_Close','HBL_Volume']\n"
   ]
  },
  {
   "cell_type": "markdown",
   "metadata": {},
   "source": [
    "## Merging Data Frame"
   ]
  },
  {
   "cell_type": "code",
   "execution_count": null,
   "metadata": {},
   "outputs": [],
   "source": [
    "data=pd.concat([UBL,MEBL,HBL],axis=1)\n",
    "data.info()"
   ]
  },
  {
   "cell_type": "markdown",
   "metadata": {},
   "source": [
    "## Reversing Data Frame"
   ]
  },
  {
   "cell_type": "code",
   "execution_count": null,
   "metadata": {},
   "outputs": [],
   "source": [
    "data1=data.iloc[::-1]\n",
    "data1=data1.reset_index()\n",
    "data1=data1.iloc[::-1]\n",
    "data1=data1.set_index('Date')"
   ]
  },
  {
   "cell_type": "code",
   "execution_count": null,
   "metadata": {},
   "outputs": [],
   "source": [
    "x=data1"
   ]
  },
  {
   "cell_type": "code",
   "execution_count": null,
   "metadata": {},
   "outputs": [],
   "source": [
    "x.head()"
   ]
  },
  {
   "cell_type": "markdown",
   "metadata": {},
   "source": [
    "## Dropping Missing Values"
   ]
  },
  {
   "cell_type": "code",
   "execution_count": null,
   "metadata": {},
   "outputs": [],
   "source": [
    "data1.dropna(inplace=True)"
   ]
  },
  {
   "cell_type": "code",
   "execution_count": null,
   "metadata": {},
   "outputs": [],
   "source": [
    "data1.isnull().sum().sum()"
   ]
  },
  {
   "cell_type": "markdown",
   "metadata": {},
   "source": [
    "# Descriptive Statistics <a name='desc'></a>"
   ]
  },
  {
   "cell_type": "code",
   "execution_count": null,
   "metadata": {},
   "outputs": [],
   "source": [
    "data2=data1.loc[:,['UBL_Close','MEBL_Close','HBL_Close']]"
   ]
  },
  {
   "cell_type": "code",
   "execution_count": null,
   "metadata": {
    "scrolled": false
   },
   "outputs": [],
   "source": [
    "plt.figure(figsize=(10,7))\n",
    "sns.heatmap(data=data2.corr())"
   ]
  },
  {
   "cell_type": "markdown",
   "metadata": {},
   "source": [
    "## Box plot"
   ]
  },
  {
   "cell_type": "code",
   "execution_count": null,
   "metadata": {},
   "outputs": [],
   "source": [
    "plt.figure(figsize=(14,10))\n",
    "sns.boxplot(data=data2)\n",
    "plt.xlabel('Date',fontsize=15)\n",
    "plt.ylabel('Closing Price',fontsize=15)\n",
    "plt.title('Trend of Share Price of different KSE-30 Companies',fontsize=15)"
   ]
  },
  {
   "cell_type": "markdown",
   "metadata": {},
   "source": [
    "# Inferential Statistics <a name='Inf'></a>"
   ]
  },
  {
   "cell_type": "markdown",
   "metadata": {},
   "source": [
    "## Pearson Correlation"
   ]
  },
  {
   "cell_type": "code",
   "execution_count": null,
   "metadata": {},
   "outputs": [],
   "source": [
    "pearson_coeff,p_val=stats.pearsonr(data2['UBL_Close'],data2['HBL_Close'])\n",
    "pearson_coeff,p_val"
   ]
  },
  {
   "cell_type": "markdown",
   "metadata": {},
   "source": [
    "**_Conclusion:_**\n",
    "\n",
    "Since the p-value is <\n",
    "0.001, the correlation between UBL Stock Closing Price and HBL Stock Closing Price is statistically significant, and the linear relationship is quite strong (~0.834)."
   ]
  },
  {
   "cell_type": "code",
   "execution_count": null,
   "metadata": {},
   "outputs": [],
   "source": [
    "pearson_coeff,p_val=stats.pearsonr(data2['UBL_Close'],data2['MEBL_Close'])\n",
    "pearson_coeff,p_val"
   ]
  },
  {
   "cell_type": "markdown",
   "metadata": {},
   "source": [
    "**_Conclusion:_**\n",
    "\n",
    "Since the p-value is <\n",
    "0.001, the correlation between UBL Stock Closing Price and HBL Stock Closing Price is statistically significant, and the linear relationship is quite strong (~0.738)."
   ]
  },
  {
   "cell_type": "code",
   "execution_count": null,
   "metadata": {
    "scrolled": true
   },
   "outputs": [],
   "source": [
    "pearson_coeff,p_val=stats.pearsonr(data2['MEBL_Close'],data2['HBL_Close'])\n",
    "pearson_coeff,p_val"
   ]
  },
  {
   "cell_type": "markdown",
   "metadata": {},
   "source": [
    "# Trading Frame Work <a name='Tf'></a>"
   ]
  },
  {
   "cell_type": "markdown",
   "metadata": {},
   "source": [
    "## Basic Trading"
   ]
  },
  {
   "cell_type": "code",
   "execution_count": null,
   "metadata": {},
   "outputs": [],
   "source": [
    "def trader(X,nS1,nS3,share_price1,share_price2):\n",
    "    Amount_Gained=((nS3*share_price2)*.1)\n",
    "    Brocker_fee=((nS3*share_price2)*.1)*.3*.01\n",
    "    nS3=nS3-(nS3*.1)\n",
    "    X=X+Amount_Gained-Brocker_fee\n",
    "    Shares_bought=(.997*Amount_Gained)/share_price1\n",
    "    nS1=nS1+Shares_bought\n",
    "    X=X-(.997*Amount_Gained)\n",
    "    return X,nS1,nS3,Amount_Gained,-(Shares_bought*share_price1),Brocker_fee"
   ]
  },
  {
   "cell_type": "markdown",
   "metadata": {},
   "source": [
    "## For Stock 1"
   ]
  },
  {
   "cell_type": "code",
   "execution_count": null,
   "metadata": {},
   "outputs": [],
   "source": [
    "def stock1(X,nS1,nS2,nS3,pS1,pS2,pS3,share_prices,Prediction,TN,low_thres,high_thres):\n",
    "    Trade_Occurred,Brocker_fee,Share1,Share2,Share3,temp1,temp2,temp3=False,0,0,0,0,0,0,0\n",
    "    if (pS3/TN)>low_thres and (pS2/TN)>low_thres:\n",
    "            X,nS1,nS3,temp1,temp2,temp3=trader(X,nS1,nS3,share_price[0],share_price[2])\n",
    "            Share3+=temp1\n",
    "            Share1+=temp2\n",
    "            Brocker_fee+=temp3\n",
    "            X,nS1,nS2,temp1,temp2,temp3=trader(X,nS1,nS2,share_price[0],share_price[1])\n",
    "            Share2+=temp1\n",
    "            Share1+=temp2\n",
    "            Brocker_fee+=temp3\n",
    "            Trade_Occurred=True\n",
    "    elif (model2_pred>model3_pred) and (pS3/TN)>low_thres:\n",
    "            X,nS1,nS3,temp1,temp2,temp3=trader(X,nS1,nS3,share_price[0],share_price[2])\n",
    "            Share3+=temp1\n",
    "            Share1+=temp2\n",
    "            Brocker_fee+=temp3\n",
    "            Trade_Occurred=True\n",
    "    elif (model3_pred>model2_pred) and (pS2/TN)>low_thres:\n",
    "            X,nS1,nS2,temp1,temp2,temp3=trader(X,nS1,nS2,share_price[0],share_price[1])\n",
    "            Share2+=temp1\n",
    "            Share1+=temp2\n",
    "            Brocker_fee+=temp3\n",
    "            Trade_Occurred=True\n",
    "    if model2_pred<0 and (pS2/TN)>low_thres:\n",
    "            X,nS1,nS2,temp1,temp2,temp3=trader(X,nS1,nS2,share_price[0],share_price[1])\n",
    "            Share2+=temp1\n",
    "            Share1+=temp2\n",
    "            Brocker_fee+=temp3\n",
    "            Trade_Occurred=True\n",
    "    if model3_pred<0 and (pS3/TN)>low_thres:\n",
    "            X,nS1,nS3,temp1,temp2,temp3=trader(X,nS1,nS3,share_price[0],share_price[2])   \n",
    "            Share3+=temp1\n",
    "            Share1+=temp2\n",
    "            Brocker_fee+=temp3\n",
    "            Trade_Occurred=True\n",
    "    return X,nS1,nS2,nS3,Trade_Occurred,Share1,Share2,Share3,Brocker_fee"
   ]
  },
  {
   "cell_type": "markdown",
   "metadata": {},
   "source": [
    "## For Stock 2"
   ]
  },
  {
   "cell_type": "code",
   "execution_count": null,
   "metadata": {},
   "outputs": [],
   "source": [
    "def stock2(X,nS1,nS2,nS3,pS1,pS2,pS3,share_prices,Prediction,TN,low_thres,high_thres):\n",
    "    Trade_Occurred,Brocker_fee,Share1,Share2,Share3,temp1,temp2,temp3=False,0,0,0,0,0,0,0\n",
    "    if (pS3/TN)>low_thres and (pS2/TN)>low_thres:\n",
    "            X,nS2,nS3,temp1,temp2,temp3=trader(X,nS2,nS3,share_price[1],share_price[2])\n",
    "            Share3+=temp1\n",
    "            Share2+=temp2\n",
    "            Brocker_fee+=temp3\n",
    "            X,nS2,nS1,temp1,temp2,temp3=trader(X,nS2,nS1,share_price[1],share_price[0])\n",
    "            Share1+=temp1\n",
    "            Share2+=temp2\n",
    "            Brocker_fee+=temp3\n",
    "            Trade_Occurred=True\n",
    "    elif (model1_pred>model3_pred) and (pS3/TN)>low_thres:\n",
    "            X,nS2,nS3,temp1,temp2,temp3=trader(X,nS2,nS3,share_price[1],share_price[2])\n",
    "            Share3+=temp1\n",
    "            Share2+=temp2\n",
    "            Brocker_fee+=temp3\n",
    "            Trade_Occurred=True\n",
    "    elif (model3_pred>model2_pred) and (pS1/TN)>low_thres:\n",
    "            X,nS2,nS1,temp1,temp2,temp3=trader(X,nS2,nS1,share_price[1],share_price[0])\n",
    "            Share1+=temp1\n",
    "            Share2+=temp2\n",
    "            Brocker_fee+=temp3\n",
    "            Trade_Occurred=True\n",
    "    if model1_pred<0 and (pS1/TN)>low_thres:\n",
    "            X,nS2,nS1,temp1,temp2,temp3=trader(X,nS2,nS1,share_price[1],share_price[0])\n",
    "            Share1+=temp1\n",
    "            Share2+=temp2\n",
    "            Brocker_fee+=temp3\n",
    "            Trade_Occurred=True\n",
    "    if model3_pred<0 and (pS3/TN)>low_thres:\n",
    "            X,nS2,nS3,temp1,temp2,temp3=trader(X,nS2,nS3,share_price[1],share_price[2])\n",
    "            Share3+=temp1\n",
    "            Share2+=temp2\n",
    "            Brocker_fee+=temp3\n",
    "            Trade_Occurred=True\n",
    "    return X,nS1,nS2,nS3,Trade_Occurred,Share1,Share2,Share3,Brocker_fee    "
   ]
  },
  {
   "cell_type": "markdown",
   "metadata": {},
   "source": [
    "## For Stock 3"
   ]
  },
  {
   "cell_type": "code",
   "execution_count": null,
   "metadata": {},
   "outputs": [],
   "source": [
    "def stock3(X,nS1,nS2,nS3,pS1,pS2,pS3,share_prices,Prediction,TN,low_thres,high_thres):\n",
    "    Trade_Occurred,Brocker_fee,Share1,Share2,Share3,temp1,temp2,temp3=False,0,0,0,0,0,0,0\n",
    "    if (pS3/TN)>low_thres and (pS2/TN)>low_thres:\n",
    "        X,nS3,nS1,temp1,temp2,temp3=trader(X,nS3,nS1,share_price[2],share_price[0])\n",
    "        Share1+=temp1\n",
    "        Share3+=temp2\n",
    "        Brocker_fee+=temp3\n",
    "        X,nS3,nS2,temp1,temp2,temp3=trader(X,nS3,nS2,share_price[2],share_price[1])\n",
    "        Share2+=temp1\n",
    "        Share3+=temp2\n",
    "        Brocker_fee+=temp3\n",
    "        Trade_Occurred=True\n",
    "    elif (model2_pred>model1_pred) and (pS1/TN)>low_thres:\n",
    "        X,nS3,nS1,temp1,temp2,temp3=trader(X,nS3,nS1,share_price[2],share_price[0])\n",
    "        Share1+=temp1\n",
    "        Share3+=temp2\n",
    "        Brocker_fee+=temp3\n",
    "        Trade_Occurred=True\n",
    "    elif (model1_pred>model2_pred) and (pS2/TN)>low_thres:\n",
    "        X,nS3,nS2,temp1,temp2,temp3=trader(X,nS3,nS2,share_price[2],share_price[1])\n",
    "        Share2+=temp1\n",
    "        Share3+=temp2\n",
    "        Brocker_fee+=temp3\n",
    "        Trade_Occurred=True\n",
    "    if model2_pred<0 and (pS2/TN)>low_thres:\n",
    "        X,nS3,nS2,temp1,temp2,temp3=trader(X,nS3,nS2,share_price[2],share_price[1])\n",
    "        Share2+=temp1\n",
    "        Share3+=temp2\n",
    "        Brocker_fee+=temp3\n",
    "        Trade_Occurred=True\n",
    "    if model1_pred<0 and (pS1/TN)>low_thres:\n",
    "        X,nS3,nS1,temp1,temp2,temp3=trader(X,nS3,nS1,share_price[2],share_price[0])\n",
    "        Share1+=temp1\n",
    "        Share3+=temp2\n",
    "        Brocker_fee+=temp3\n",
    "        Trade_Occurred=True\n",
    "    return X,nS1,nS2,nS3,Trade_Occurred,Share1,Share2,Share3,Brocker_fee"
   ]
  },
  {
   "cell_type": "markdown",
   "metadata": {},
   "source": [
    "## Making Trades"
   ]
  },
  {
   "cell_type": "code",
   "execution_count": null,
   "metadata": {},
   "outputs": [],
   "source": [
    "def shares_trading(X,nS1,nS2,nS3,share_prices,Prediction,TN,low_thres,high_thres):\n",
    "    model1_pred,model2_pred,model3_pred=Prediction[0],Prediction[1],Prediction[2]\n",
    "    pS1,pS2,pS3=(nS1*share_prices[0]),(nS2*share_prices[1]),(nS3*share_prices[2])\n",
    "    Trade_Occurred,Brocker_fee,Share1,Share2,Share3=False,0,0,0,0\n",
    "    if (model1_pred>model2_pred and model1_pred>model3_pred) and (pS1/TN)<high_thres:\n",
    "        X,nS1,nS2,nS3,Trade_Occurred,Share1,Share2,Share3,Brocker_fee=stock1(X,nS1,nS2,nS3,pS1,pS2,pS3,\n",
    "                                                                      share_prices,Prediction,TN,\n",
    "                                                                      low_thres,high_thres)\n",
    "        return X,nS1,nS2,nS3,Trade_Occurred,Share1,Share2,Share3,Brocker_fee\n",
    "    \n",
    "    elif (model2_pred>model1_pred and model2_pred>model3_pred) and (pS2/TN)<high_thres:\n",
    "        X,nS1,nS2,nS3,Trade_Occurred,Share1,Share2,Share3,Brocker_fee=stock2(X,nS1,nS2,nS3,pS1,pS2,pS3,\n",
    "                                                                      share_prices,Prediction,TN,\n",
    "                                                                      low_thres,high_thres)\n",
    "        return X,nS1,nS2,nS3,Trade_Occurred,Share1,Share2,Share3,Brocker_fee\n",
    "    elif (model3_pred>model1_pred and model3_pred>model2_pred) and (pS3/TN)<high_thres:\n",
    "        X,nS1,nS2,nS3,Trade_Occurred,Share1,Share2,Share3,Brocker_fee=stock3(X,nS1,nS2,nS3,pS1,pS2,pS3,\n",
    "                                                                      share_prices,Prediction,TN,\n",
    "                                                                      low_thres,high_thres)\n",
    "        return X,nS1,nS2,nS3,Trade_Occurred,Share1,Share2,Share3,Brocker_fee\n",
    "    else:\n",
    "        Amount_Gained,Brocker_Fee=0,0\n",
    "        return X,nS1,nS2,nS3,Trade_Occurred,Share1,Share2,Share3,Brocker_fee\n"
   ]
  },
  {
   "cell_type": "markdown",
   "metadata": {},
   "source": [
    "## Front End of Trading Framework"
   ]
  },
  {
   "cell_type": "code",
   "execution_count": null,
   "metadata": {},
   "outputs": [],
   "source": [
    "%matplotlib notebook\n",
    "plt.rcParams['animation.html']='jshtml'"
   ]
  },
  {
   "cell_type": "code",
   "execution_count": null,
   "metadata": {
    "scrolled": true
   },
   "outputs": [],
   "source": [
    "data1.index=data1.index.astype('str')\n",
    "fig=plt.figure(figsize=(10,6))\n",
    "ax=fig.add_subplot(111)\n",
    "i=0\n",
    "x,y=[],[]\n",
    "x1,y1=[],[]\n",
    "x2,y2=[],[]\n",
    "while True:\n",
    "    x.append(data1.index[i])\n",
    "    y.append(data1.UBL_Close[i])\n",
    "    x1.append(data1.index[i])\n",
    "    y1.append(data1.HBL_Close[i])\n",
    "    x2.append(data1.index[i])\n",
    "    y2.append(data1.MEBL_Close[i])\n",
    "    ax.plot(x,y,color='blue')\n",
    "    ax.plot(x1,y1,color='green')\n",
    "    ax.plot(x2,y2,color='purple')\n",
    "    plt.xticks(rotation=90)\n",
    "    ax.legend(['UBL','HBL','MEBL'],loc='upper left')\n",
    "    ax.set_xlabel('Date')\n",
    "    ax.set_ylabel('Stock_Price')\n",
    "    ax.set_title('Variations of Stock Prices over time')\n",
    "    plt.show()\n",
    "    fig.canvas.draw()\n",
    "    time.sleep(1)\n",
    "    i+=1"
   ]
  },
  {
   "cell_type": "markdown",
   "metadata": {},
   "source": [
    "# Testing Phase"
   ]
  },
  {
   "cell_type": "code",
   "execution_count": null,
   "metadata": {},
   "outputs": [],
   "source": [
    "data3=data1.reset_index()\n",
    "data3=data3.loc[0:,:]\n",
    "data3.reset_index(inplace=True)\n",
    "data3.drop('index',inplace=True,axis=1)\n",
    "data3"
   ]
  },
  {
   "cell_type": "markdown",
   "metadata": {},
   "source": [
    "## Creating Data Frame to Trade log into Excel Sheet"
   ]
  },
  {
   "cell_type": "code",
   "execution_count": null,
   "metadata": {},
   "outputs": [],
   "source": [
    "Data_Acquired=pd.DataFrame({'Time_Stamp':['2009-06-18','2009-06-18'],'UBL_Shares':[0,162],'HBL_Shares':[0,92],'MEBL_Shares':[0,986],'Trade_Ocurred':[False,True],\n",
    "                            'UBL_Pred':[0,0],'HBL_Pred':[0,0],'MEBL_Pred':[0,0],'UBL_portfolio':[0,.33],\n",
    "                            'HBL_portfolio':[0,.33],'MEBL_portfolio':[0,.33],'Balance':[100000,109],'Brocker_Fee':[0,(99000*.3*.01*3)]\n",
    "                            ,'Share1_NetChange':[0,-33000],'Share2_NetChange':[0,-33000],'Share3_NetChange':[0,-33000],'TN':[100000,99109]})\n",
    "Data_Acquired['Time_Stamp']=pd.to_datetime(Data_Acquired['Time_Stamp'],format='%Y-%m-%d')\n",
    "Data_Acquired.to_csv('Trade_log.csv',index=None)"
   ]
  },
  {
   "cell_type": "code",
   "execution_count": null,
   "metadata": {},
   "outputs": [],
   "source": [
    "Data_Acquired"
   ]
  },
  {
   "cell_type": "markdown",
   "metadata": {},
   "source": [
    "## Unit Testing <a name='Ut'></a>"
   ]
  },
  {
   "cell_type": "code",
   "execution_count": null,
   "metadata": {},
   "outputs": [],
   "source": [
    "X=100000\n",
    "nS1=math.floor((X*.33)/data3.loc[0,'UBL_Close'])\n",
    "nS2=math.floor((X*.33)/data3.loc[0,'HBL_Close'])\n",
    "nS3=math.floor((X*.33)/data3.loc[0,'MEBL_Close'])\n",
    "X-=X*.99+(891)\n",
    "X,nS1,nS2,nS3"
   ]
  },
  {
   "cell_type": "code",
   "execution_count": null,
   "metadata": {},
   "outputs": [],
   "source": [
    "X=100000\n",
    "nS1=(X*.33)/data3.loc[0,'UBL_Close']\n",
    "nS2=(X*.33)/data3.loc[0,'HBL_Close']\n",
    "nS3=(X*.33)/data3.loc[0,'MEBL_Close']\n",
    "\n",
    "X-=X*.99+(891)\n",
    "low_thres=0.3\n",
    "high_thres=0.4\n",
    "for index in range(data3.shape[0]-1):\n",
    "    total_shares=nS1+nS2+nS3\n",
    "    model1_pred=data3.loc[index+1,'UBL_Close']-data3.loc[index,'UBL_Close']\n",
    "    model2_pred=data3.loc[index+1,'HBL_Close']-data3.loc[index,'HBL_Close']\n",
    "    model3_pred=data3.loc[index+1,'MEBL_Close']-data3.loc[index,'MEBL_Close']\n",
    "    prediction=[model1_pred,model2_pred,model3_pred]\n",
    "    \n",
    "    share_price=[data3.loc[index,'UBL_Close'],data3.loc[index,'HBL_Close'],data3.loc[index,'MEBL_Close']]\n",
    "    TN=(nS1*data3.loc[index,'UBL_Close'])+(nS2*data3.loc[index,'HBL_Close'])+(nS3*data3.loc[index,'MEBL_Close'])\n",
    "    \n",
    "    X,nS1,nS2,nS3,Trade_Occurred,Share1,Share2,Share3,Brocker_fee=shares_trading(X,nS1,nS2,nS3,\n",
    "                                                                          share_price,prediction,TN,low_thres,\n",
    "                                                                          high_thres)\n",
    "    \n",
    "    pS1,pS2,pS3=(nS1*data3.loc[index,'UBL_Close']),(nS2*data3.loc[index,'HBL_Close']),(nS3*data3.loc[index,'MEBL_Close'])\n",
    "    TN=X+(nS1*data3.loc[index,'UBL_Close'])+(nS2*data3.loc[index,'HBL_Close'])+(nS3*data3.loc[index,'MEBL_Close'])\n",
    "\n",
    "\n",
    "    with open('Trade_log.csv','a',newline='') as raw:\n",
    "        file_writer=csv.writer(raw)\n",
    "        file_writer.writerow([data3.loc[index,'Date'],math.floor(nS1),math.floor(nS2),math.floor(nS3),Trade_Occurred,model1_pred,model2_pred,model3_pred,\n",
    "                              pS1/TN,pS2/TN,pS3/TN,X,Brocker_fee,Share1,Share2,Share3,TN])"
   ]
  },
  {
   "cell_type": "markdown",
   "metadata": {},
   "source": [
    "## Trade Log <a name='Tl'></a>"
   ]
  },
  {
   "cell_type": "code",
   "execution_count": null,
   "metadata": {},
   "outputs": [],
   "source": [
    "d=pd.read_csv('Trade_log.csv')\n",
    "d"
   ]
  },
  {
   "cell_type": "code",
   "execution_count": null,
   "metadata": {},
   "outputs": [],
   "source": [
    "TN"
   ]
  },
  {
   "cell_type": "code",
   "execution_count": null,
   "metadata": {},
   "outputs": [],
   "source": [
    "pS1/100000,pS2/100000,pS3/100000"
   ]
  },
  {
   "cell_type": "markdown",
   "metadata": {},
   "source": [
    "## Investment Portfolio"
   ]
  },
  {
   "cell_type": "code",
   "execution_count": null,
   "metadata": {},
   "outputs": [],
   "source": [
    "total_shares=nS1+nS2+nS3\n",
    "X,nS1/total_shares,nS2/total_shares,nS3/total_shares"
   ]
  },
  {
   "cell_type": "markdown",
   "metadata": {},
   "source": [
    "# Per Trade Data <a name='pt'></a>"
   ]
  },
  {
   "cell_type": "code",
   "execution_count": null,
   "metadata": {},
   "outputs": [],
   "source": [
    "Names=['ATRL','bahl','EPCL','FCCL','LUCK','MCB','MLCF','NETSOL','NML',\n",
    "      'OGDC','PPL','PSO','SEARL','TRG']\n",
    "i,dataframes=0,[]\n",
    "for name in Names:\n",
    "    dataframes.append(pd.read_csv('../per_trade_data/'+name+'.txt',delimiter='|',index_col='TRADE_ENTRY_DATE',\n",
    "                        parse_dates=True))\n",
    "    dataframes[i].reset_index(inplace=True)\n",
    "    i+=1"
   ]
  },
  {
   "cell_type": "code",
   "execution_count": null,
   "metadata": {},
   "outputs": [],
   "source": [
    "dataframes"
   ]
  },
  {
   "cell_type": "markdown",
   "metadata": {},
   "source": [
    "# Improving DateTime Format <a name='dt'></a>"
   ]
  },
  {
   "cell_type": "markdown",
   "metadata": {},
   "source": [
    "## Helper functions"
   ]
  },
  {
   "cell_type": "code",
   "execution_count": null,
   "metadata": {},
   "outputs": [],
   "source": [
    "def Format(t):\n",
    "    return t[:1]+':'+t[1:3]+':'+t[3:5]+'.'+t[5:] if len(t)==9 else t[:2]+':'+t[2:4]+':'+t[4:6]+'.'+t[6:]\n"
   ]
  },
  {
   "cell_type": "code",
   "execution_count": null,
   "metadata": {},
   "outputs": [],
   "source": [
    "def Combined(date,time):\n",
    "    return date[:11]+Format(str(time))"
   ]
  },
  {
   "cell_type": "code",
   "execution_count": null,
   "metadata": {},
   "outputs": [],
   "source": [
    "def Formated(row):\n",
    "    return Combined(str(row.TRADE_ENTRY_DATE),str(row.KATS_TIME))\n"
   ]
  },
  {
   "cell_type": "markdown",
   "metadata": {},
   "source": [
    "## Applying Helper Function to improve datetime format"
   ]
  },
  {
   "cell_type": "code",
   "execution_count": null,
   "metadata": {},
   "outputs": [],
   "source": [
    "Names=['ATRL','bahl','EPCL','FCCL','LUCK','MCB','MLCF','NETSOL','NML',\n",
    "      'OGDC','PPL','PSO','SEARL','TRG']\n",
    "i,dataframes=0,[]\n",
    "for i in range(14):\n",
    "    dataframes[i]['Date_Time']=dataframes[i].apply(Formated,axis='columns')\n",
    "    dataframes[i]['Date_Time']=pd.to_datetime(dataframes[i]['Date_Time'], infer_datetime_format=True)\n",
    "    dataframes[i].to_csv('../Modified_Data/Modified_'+Names[i]+'.csv',index='Date_Time')"
   ]
  },
  {
   "cell_type": "code",
   "execution_count": null,
   "metadata": {},
   "outputs": [],
   "source": [
    "df=pd.read_csv('../Modified_Data/Modified_ATRL.csv',parse_dates=True,index_col='Date_Time',infer_datetime_format=True)\n",
    "df.drop(['Unnamed: 0','KATS_TIME'],axis=1,inplace=True)\n",
    "df.columns=['TRADE_ENTRY_DATE','ATRL','TRADE_QTY','TRADE_RATE']"
   ]
  },
  {
   "cell_type": "code",
   "execution_count": null,
   "metadata": {
    "scrolled": false
   },
   "outputs": [],
   "source": [
    "df.reset_index(inplace=True)"
   ]
  },
  {
   "cell_type": "markdown",
   "metadata": {},
   "source": [
    "# Cleaning Data and completing missing values <a name='Clean'></a>"
   ]
  },
  {
   "cell_type": "markdown",
   "metadata": {},
   "source": [
    "## Loading Data"
   ]
  },
  {
   "cell_type": "code",
   "execution_count": null,
   "metadata": {},
   "outputs": [],
   "source": [
    "Names=['bahl','EPCL','FCCL','LUCK','MCB','MLCF','NETSOL','NML',\n",
    "      'OGDC','PPL','PSO','SEARL','TRG']\n",
    "df=pd.read_csv('../Modified_Data/Modified_ATRL.csv',parse_dates=True,index_col='Date_Time',infer_datetime_format=True)\n",
    "df.drop(['Unnamed: 0','KATS_TIME'],axis=1,inplace=True)\n",
    "df.reset_index(inplace=True)\n",
    "for i in range(len(Names)):\n",
    "    df1=pd.read_csv('../Modified_Data/Modified_'+Names[i]+'.csv',parse_dates=True,index_col='Date_Time',infer_datetime_format=True)\n",
    "    df1.drop(['Unnamed: 0','KATS_TIME'],axis=1,inplace=True)\n",
    "    df1.reset_index(inplace=True)\n",
    "    df1.columns=[Names[i]+'_DT',Names[i]+'_TRADE_DATE',Names[i],Names[i]+'_TRADE_QTY',Names[i]+'_TRADE_RATE']\n",
    "    df=pd.concat([df,df1],axis=1)\n"
   ]
  },
  {
   "cell_type": "code",
   "execution_count": null,
   "metadata": {},
   "outputs": [],
   "source": [
    "df.head()"
   ]
  },
  {
   "cell_type": "markdown",
   "metadata": {},
   "source": [
    "## Dropping Unnecessary features"
   ]
  },
  {
   "cell_type": "code",
   "execution_count": null,
   "metadata": {},
   "outputs": [],
   "source": [
    "df.drop(['bahl_DT','EPCL_DT','FCCL_DT','LUCK_DT','MCB_DT','MLCF_DT','NETSOL_DT','NML_DT','OGDC_DT','PPL_DT',\n",
    "        'OGDC_DT','PPL_DT','PSO_DT','SEARL_DT','TRG_DT'],axis=1,inplace=True)\n",
    "df.drop(['bahl_TRADE_DATE','EPCL_TRADE_DATE','FCCL_TRADE_DATE','LUCK_TRADE_DATE','MCB_TRADE_DATE','MLCF_TRADE_DATE',\n",
    "         'NETSOL_TRADE_DATE','NML_TRADE_DATE','OGDC_TRADE_DATE','PPL_TRADE_DATE',\n",
    "        'OGDC_TRADE_DATE','PPL_TRADE_DATE','PSO_TRADE_DATE','SEARL_TRADE_DATE','TRG_TRADE_DATE'],axis=1,inplace=True)\n",
    "df.head()"
   ]
  },
  {
   "cell_type": "markdown",
   "metadata": {},
   "source": [
    "## Completing ID"
   ]
  },
  {
   "cell_type": "code",
   "execution_count": null,
   "metadata": {},
   "outputs": [],
   "source": [
    "df.bahl.fillna('BAHL',inplace=True),df.EPCL.fillna('EPCL',inplace=True),df.FCCL.fillna('FCCL',inplace=True),\n",
    "df.LUCK.fillna('LUCK',inplace=True),df.MCB.fillna('MCB',inplace=True),\n",
    "df.MLCF.fillna('MLCF',inplace=True),df.NETSOL.fillna('NETSOL',inplace=True),df.NML.fillna('NML',inplace=True),\n",
    "df.OGDC.fillna('OGDC',inplace=True),df.PPL.fillna('PPL',inplace=True),\n",
    "df.PSO.fillna('PSO',inplace=True),df.SEARL.fillna('SEARL',inplace=True),df.TRG.fillna('TRG',inplace=True)\n",
    "df.head()"
   ]
  },
  {
   "cell_type": "markdown",
   "metadata": {},
   "source": [
    "## Filling the missing values"
   ]
  },
  {
   "cell_type": "code",
   "execution_count": null,
   "metadata": {},
   "outputs": [],
   "source": [
    "for i in range(10):\n",
    "    df.fillna(method ='bfill',inplace=True)\n",
    "    df.fillna(method ='ffill',inplace=True)\n"
   ]
  },
  {
   "cell_type": "markdown",
   "metadata": {},
   "source": [
    "## Fetching "
   ]
  },
  {
   "cell_type": "code",
   "execution_count": null,
   "metadata": {},
   "outputs": [],
   "source": [
    "Names=['ATRL','bahl','EPCL','FCCL','LUCK','MCB','MLCF','NETSOL','NML',\n",
    "      'OGDC','PPL','PSO','SEARL','TRG']\n",
    "df_ATRL=df.iloc[:,[0,1,2,3,4]]\n",
    "df_BAHL=df.iloc[:,[0,1,5,6,7]]\n",
    "df_EPCL=df.iloc[:,[0,1,8,9,10]]\n",
    "df_FCCL=df.iloc[:,[0,1,11,12,13]]\n",
    "df_LUCK=df.iloc[:,[0,1,14,15,16]]\n",
    "df_MCB=df.iloc[:,[0,1,17,18,19]]\n",
    "df_MLCF=df.iloc[:,[0,1,20,21,22]]\n",
    "df_NETSOL=df.iloc[:,[0,1,23,24,25]]\n",
    "df_NML=df.iloc[:,[0,1,26,27,28]]\n",
    "df_OGDC=df.iloc[:,[0,1,29,30,31]]\n",
    "df_PPL=df.iloc[:,[0,1,32,33,34]]\n",
    "df_PSO=df.iloc[:,[0,1,35,36,37]]\n",
    "df_SEARL=df.iloc[:,[0,1,38,39,40]]\n",
    "df_TRG=df.iloc[:,[0,1,41,42,43]]\n",
    "dataframes=[df_ATRL,df_BAHL,df_EPCL,df_FCCL,df_LUCK,df_MCB,df_MLCF,df_NETSOL,df_NML,df_OGDC,df_PPL,df_PSO,df_SEARL,\n",
    "           df_TRG]"
   ]
  },
  {
   "cell_type": "markdown",
   "metadata": {},
   "source": [
    "## Saving Cleaned data"
   ]
  },
  {
   "cell_type": "code",
   "execution_count": null,
   "metadata": {},
   "outputs": [],
   "source": [
    "Names=['ATRL','bahl','EPCL','FCCL','LUCK','MCB','MLCF','NETSOL','NML',\n",
    "      'OGDC','PPL','PSO','SEARL','TRG']\n",
    "i=0\n",
    "for i in range(14):\n",
    "    dataframes[i].to_csv('../Cleaned_Data/'+Names[i]+'.csv',index='Date_Time')"
   ]
  },
  {
   "cell_type": "markdown",
   "metadata": {},
   "source": [
    "# DataCubes  <a name='DataCube'></a>"
   ]
  },
  {
   "cell_type": "markdown",
   "metadata": {},
   "source": [
    "## Loading all the data into Frame"
   ]
  },
  {
   "cell_type": "code",
   "execution_count": null,
   "metadata": {},
   "outputs": [],
   "source": [
    "df=pd.read_csv('../Cleaned_Data/ATRL.csv',parse_dates=True,index_col='Date_Time',infer_datetime_format=True)\n",
    "df.drop(['Unnamed: 0'],axis=1,inplace=True)\n",
    "df.columns=['TRADE_ENTRY_DATE','ID','TRADE_QTY','TRADE_RATE']\n",
    "df.reset_index(inplace=True)\n",
    "\n",
    "df1=pd.read_csv('../Cleaned_Data/bahl.csv',parse_dates=True,index_col='Date_Time',infer_datetime_format=True)\n",
    "df1.drop(['Unnamed: 0'],axis=1,inplace=True)\n",
    "df1.columns=['TRADE_ENTRY_DATE','ID','TRADE_QTY','TRADE_RATE']\n",
    "df1.reset_index(inplace=True)\n",
    "df=pd.concat([df,df1])\n",
    "\n",
    "Names=['EPCL','FCCL','LUCK','MCB','MLCF','NETSOL','NML',\n",
    "      'OGDC','PPL','PSO','SEARL','TRG']\n",
    "print('Into First loop')\n",
    "\n",
    "for i in range(0,len(Names)):\n",
    "    print('Into ',Names[i])\n",
    "    df1=pd.read_csv('../Cleaned_Data/'+Names[i]+'.csv',parse_dates=True,index_col='Date_Time',infer_datetime_format=True)\n",
    "    df1.drop(['Unnamed: 0'],axis=1,inplace=True)\n",
    "    df1.columns=['TRADE_ENTRY_DATE','ID','TRADE_QTY','TRADE_RATE']\n",
    "    df1.reset_index(inplace=True)\n",
    "    df=pd.concat([df,df1])\n",
    "    print('done ',Names[i])\n",
    "df"
   ]
  },
  {
   "cell_type": "markdown",
   "metadata": {},
   "source": [
    "## Grouping data to form datacube"
   ]
  },
  {
   "cell_type": "code",
   "execution_count": null,
   "metadata": {},
   "outputs": [],
   "source": [
    "df1=df[:]\n",
    "df2=df1.groupby([df1.TRADE_ENTRY_DATE,df1.Date_Time.hour,df1.Date_Time.minute,df1.SYMBOL_CODE]).TRADE_RATE.agg(['max','min'])\n",
    "df2['TRADE_RATE']=df1.groupby([df1.TRADE_ENTRY_DATE,df1.Date_Time.hour,df1.Date_Time.minute]).TRADE_RATE.first()\n",
    "df2.columns=['HIGH','LOW','OPEN']\n",
    "df2.head()"
   ]
  },
  {
   "cell_type": "code",
   "execution_count": null,
   "metadata": {},
   "outputs": [],
   "source": [
    "df1=df[:]\n",
    "df2=df1.groupby([df1.TRADE_ENTRY_DATE,df1.Date_Time.dt.hour,df1.Date_Time.dt.minute,df1.ID]).TRADE_RATE.agg(['min','max'])\n",
    "df2['OPEN']=df1.groupby([df1.TRADE_ENTRY_DATE,df1.Date_Time.dt.hour,df1.Date_Time.dt.minute,df1.ID]).TRADE_RATE.first()\n",
    "df2['CLOSE']=df1.groupby([df1.TRADE_ENTRY_DATE,df1.Date_Time.dt.hour,df1.Date_Time.dt.minute,df1.ID]).TRADE_RATE.last()\n",
    "df2.columns=['LOW','HIGH','OPEN','CLOSE']"
   ]
  },
  {
   "cell_type": "markdown",
   "metadata": {},
   "source": [
    "## Saving DataCube"
   ]
  },
  {
   "cell_type": "code",
   "execution_count": null,
   "metadata": {},
   "outputs": [],
   "source": [
    "df2.to_csv('File.csv')\n",
    "df2"
   ]
  },
  {
   "cell_type": "markdown",
   "metadata": {},
   "source": [
    "# Port FOlio Optimization"
   ]
  },
  {
   "cell_type": "markdown",
   "metadata": {},
   "source": [
    "## Loading Data"
   ]
  },
  {
   "cell_type": "code",
   "execution_count": 2,
   "metadata": {
    "collapsed": true
   },
   "outputs": [
    {
     "data": {
      "text/html": [
       "<div>\n",
       "<style scoped>\n",
       "    .dataframe tbody tr th:only-of-type {\n",
       "        vertical-align: middle;\n",
       "    }\n",
       "\n",
       "    .dataframe tbody tr th {\n",
       "        vertical-align: top;\n",
       "    }\n",
       "\n",
       "    .dataframe thead th {\n",
       "        text-align: right;\n",
       "    }\n",
       "</style>\n",
       "<table border=\"1\" class=\"dataframe\">\n",
       "  <thead>\n",
       "    <tr style=\"text-align: right;\">\n",
       "      <th></th>\n",
       "      <th>TRADE_ENTRY_DATE</th>\n",
       "      <th>Date_Time</th>\n",
       "      <th>Date_Time.1</th>\n",
       "      <th>ID</th>\n",
       "      <th>LOW</th>\n",
       "      <th>HIGH</th>\n",
       "      <th>OPEN</th>\n",
       "      <th>CLOSE</th>\n",
       "    </tr>\n",
       "  </thead>\n",
       "  <tbody>\n",
       "    <tr>\n",
       "      <th>0</th>\n",
       "      <td>2009-04-01</td>\n",
       "      <td>9</td>\n",
       "      <td>30</td>\n",
       "      <td>ATRL</td>\n",
       "      <td>82.00</td>\n",
       "      <td>83.50</td>\n",
       "      <td>82.00</td>\n",
       "      <td>82.90</td>\n",
       "    </tr>\n",
       "    <tr>\n",
       "      <th>1</th>\n",
       "      <td>2009-04-01</td>\n",
       "      <td>9</td>\n",
       "      <td>30</td>\n",
       "      <td>BAHL</td>\n",
       "      <td>26.14</td>\n",
       "      <td>27.30</td>\n",
       "      <td>26.92</td>\n",
       "      <td>26.50</td>\n",
       "    </tr>\n",
       "    <tr>\n",
       "      <th>2</th>\n",
       "      <td>2009-04-01</td>\n",
       "      <td>9</td>\n",
       "      <td>30</td>\n",
       "      <td>EPCL</td>\n",
       "      <td>22.40</td>\n",
       "      <td>23.25</td>\n",
       "      <td>22.40</td>\n",
       "      <td>22.75</td>\n",
       "    </tr>\n",
       "    <tr>\n",
       "      <th>3</th>\n",
       "      <td>2009-04-01</td>\n",
       "      <td>9</td>\n",
       "      <td>30</td>\n",
       "      <td>FCCL</td>\n",
       "      <td>6.41</td>\n",
       "      <td>6.74</td>\n",
       "      <td>6.49</td>\n",
       "      <td>6.70</td>\n",
       "    </tr>\n",
       "    <tr>\n",
       "      <th>4</th>\n",
       "      <td>2009-04-01</td>\n",
       "      <td>9</td>\n",
       "      <td>30</td>\n",
       "      <td>LUCK</td>\n",
       "      <td>50.11</td>\n",
       "      <td>51.85</td>\n",
       "      <td>50.79</td>\n",
       "      <td>51.35</td>\n",
       "    </tr>\n",
       "  </tbody>\n",
       "</table>\n",
       "</div>"
      ],
      "text/plain": [
       "  TRADE_ENTRY_DATE  Date_Time  Date_Time.1    ID    LOW   HIGH   OPEN  CLOSE\n",
       "0       2009-04-01          9           30  ATRL  82.00  83.50  82.00  82.90\n",
       "1       2009-04-01          9           30  BAHL  26.14  27.30  26.92  26.50\n",
       "2       2009-04-01          9           30  EPCL  22.40  23.25  22.40  22.75\n",
       "3       2009-04-01          9           30  FCCL   6.41   6.74   6.49   6.70\n",
       "4       2009-04-01          9           30  LUCK  50.11  51.85  50.79  51.35"
      ]
     },
     "execution_count": 2,
     "metadata": {},
     "output_type": "execute_result"
    }
   ],
   "source": [
    "df=pd.read_csv('../DataCube/File.csv')\n",
    "df.head()"
   ]
  },
  {
   "cell_type": "markdown",
   "metadata": {},
   "source": [
    "## Rearranging"
   ]
  },
  {
   "cell_type": "code",
   "execution_count": 3,
   "metadata": {},
   "outputs": [],
   "source": [
    "columns_titles = ['TRADE_ENTRY_DATE','DATE_Time','DATE_TIME.1','ID','OPEN','HIGH','LOW','CLOSE']\n",
    "df=df.reindex(columns=columns_titles)"
   ]
  },
  {
   "cell_type": "markdown",
   "metadata": {},
   "source": [
    "## Overview of Markowitz Portfolio Theory"
   ]
  },
  {
   "cell_type": "markdown",
   "metadata": {},
   "source": [
    "Modern portfolio theory (MPT), or mean-variance analysis, is a mathematical framework for assembling a portfolio of assets such that the expected return is maximized for a given level of risk. It is a formalization and extension of diversification in investing, the idea that owning different kinds of financial assets is less risky than owning only one type. Its key insight is that an asset's risk and return should not be assessed by itself, but by how it contributes to a portfolio's overall risk and return. It uses the variance of asset prices as a proxy for risk.\n",
    "\n",
    "Economist Harry Markowitz introduced MPT in a 1952 essay, for which he was later awarded a Nobel Prize in Economics; see Markowitz model. "
   ]
  },
  {
   "cell_type": "markdown",
   "metadata": {},
   "source": [
    "## Prepraring Files for MPT"
   ]
  },
  {
   "cell_type": "code",
   "execution_count": 20,
   "metadata": {},
   "outputs": [],
   "source": [
    "dataframes=[]\n",
    "for i in range(14):\n",
    "    df1=df.loc[i::14]\n",
    "    dataframes.append(df1)\n"
   ]
  },
  {
   "cell_type": "code",
   "execution_count": 23,
   "metadata": {},
   "outputs": [],
   "source": [
    "Names=['ATRL','bahl','EPCL','FCCL','LUCK','MCB','MLCF','NETSOL','NML',\n",
    "      'OGDC','PPL','PSO','SEARL','TRG']\n",
    "i=0\n",
    "for i in range(14):\n",
    "    dataframes[i].to_csv('../MPT Data/'+Names[i]+'.csv',index=None)"
   ]
  },
  {
   "cell_type": "code",
   "execution_count": 52,
   "metadata": {
    "collapsed": true
   },
   "outputs": [
    {
     "data": {
      "text/html": [
       "<div>\n",
       "<style scoped>\n",
       "    .dataframe tbody tr th:only-of-type {\n",
       "        vertical-align: middle;\n",
       "    }\n",
       "\n",
       "    .dataframe tbody tr th {\n",
       "        vertical-align: top;\n",
       "    }\n",
       "\n",
       "    .dataframe thead th {\n",
       "        text-align: right;\n",
       "    }\n",
       "</style>\n",
       "<table border=\"1\" class=\"dataframe\">\n",
       "  <thead>\n",
       "    <tr style=\"text-align: right;\">\n",
       "      <th></th>\n",
       "      <th>TRADE_ENTRY_DATE</th>\n",
       "      <th>ATRL_CLOSE</th>\n",
       "      <th>bahl_TRADE_RATE</th>\n",
       "      <th>EPCL_TRADE_RATE</th>\n",
       "      <th>FCCL_TRADE_RATE</th>\n",
       "      <th>LUCK_TRADE_RATE</th>\n",
       "      <th>MCB_TRADE_RATE</th>\n",
       "      <th>MLCF_TRADE_RATE</th>\n",
       "      <th>NETSOL_TRADE_RATE</th>\n",
       "      <th>NML_TRADE_RATE</th>\n",
       "      <th>OGDC_TRADE_RATE</th>\n",
       "      <th>PPL_TRADE_RATE</th>\n",
       "      <th>PSO_TRADE_RATE</th>\n",
       "      <th>SEARL_TRADE_RATE</th>\n",
       "      <th>TRG_TRADE_RATE</th>\n",
       "    </tr>\n",
       "  </thead>\n",
       "  <tbody>\n",
       "    <tr>\n",
       "      <th>0</th>\n",
       "      <td>2009-04-01</td>\n",
       "      <td>82.90</td>\n",
       "      <td>26.50</td>\n",
       "      <td>22.75</td>\n",
       "      <td>6.70</td>\n",
       "      <td>51.35</td>\n",
       "      <td>144.00</td>\n",
       "      <td>5.00</td>\n",
       "      <td>17.40</td>\n",
       "      <td>31.01</td>\n",
       "      <td>73.85</td>\n",
       "      <td>176.75</td>\n",
       "      <td>200.80</td>\n",
       "      <td>64.05</td>\n",
       "      <td>1.37</td>\n",
       "    </tr>\n",
       "    <tr>\n",
       "      <th>1</th>\n",
       "      <td>2009-04-01</td>\n",
       "      <td>83.30</td>\n",
       "      <td>26.58</td>\n",
       "      <td>23.00</td>\n",
       "      <td>6.70</td>\n",
       "      <td>51.25</td>\n",
       "      <td>144.17</td>\n",
       "      <td>4.98</td>\n",
       "      <td>17.45</td>\n",
       "      <td>31.30</td>\n",
       "      <td>74.00</td>\n",
       "      <td>177.00</td>\n",
       "      <td>200.99</td>\n",
       "      <td>64.00</td>\n",
       "      <td>1.40</td>\n",
       "    </tr>\n",
       "    <tr>\n",
       "      <th>2</th>\n",
       "      <td>2009-04-01</td>\n",
       "      <td>85.00</td>\n",
       "      <td>26.90</td>\n",
       "      <td>22.90</td>\n",
       "      <td>6.75</td>\n",
       "      <td>51.50</td>\n",
       "      <td>144.49</td>\n",
       "      <td>5.05</td>\n",
       "      <td>17.40</td>\n",
       "      <td>31.20</td>\n",
       "      <td>73.70</td>\n",
       "      <td>177.30</td>\n",
       "      <td>201.03</td>\n",
       "      <td>63.10</td>\n",
       "      <td>1.38</td>\n",
       "    </tr>\n",
       "    <tr>\n",
       "      <th>3</th>\n",
       "      <td>2009-04-01</td>\n",
       "      <td>85.40</td>\n",
       "      <td>27.02</td>\n",
       "      <td>23.19</td>\n",
       "      <td>6.70</td>\n",
       "      <td>51.85</td>\n",
       "      <td>145.00</td>\n",
       "      <td>5.08</td>\n",
       "      <td>17.50</td>\n",
       "      <td>31.05</td>\n",
       "      <td>73.80</td>\n",
       "      <td>177.33</td>\n",
       "      <td>201.12</td>\n",
       "      <td>60.80</td>\n",
       "      <td>1.31</td>\n",
       "    </tr>\n",
       "    <tr>\n",
       "      <th>4</th>\n",
       "      <td>2009-04-01</td>\n",
       "      <td>86.85</td>\n",
       "      <td>28.10</td>\n",
       "      <td>23.11</td>\n",
       "      <td>6.74</td>\n",
       "      <td>51.85</td>\n",
       "      <td>145.00</td>\n",
       "      <td>5.17</td>\n",
       "      <td>17.26</td>\n",
       "      <td>30.80</td>\n",
       "      <td>73.70</td>\n",
       "      <td>176.80</td>\n",
       "      <td>201.45</td>\n",
       "      <td>62.00</td>\n",
       "      <td>1.40</td>\n",
       "    </tr>\n",
       "  </tbody>\n",
       "</table>\n",
       "</div>"
      ],
      "text/plain": [
       "  TRADE_ENTRY_DATE  ATRL_CLOSE  bahl_TRADE_RATE  EPCL_TRADE_RATE  \\\n",
       "0       2009-04-01       82.90            26.50            22.75   \n",
       "1       2009-04-01       83.30            26.58            23.00   \n",
       "2       2009-04-01       85.00            26.90            22.90   \n",
       "3       2009-04-01       85.40            27.02            23.19   \n",
       "4       2009-04-01       86.85            28.10            23.11   \n",
       "\n",
       "   FCCL_TRADE_RATE  LUCK_TRADE_RATE  MCB_TRADE_RATE  MLCF_TRADE_RATE  \\\n",
       "0             6.70            51.35          144.00             5.00   \n",
       "1             6.70            51.25          144.17             4.98   \n",
       "2             6.75            51.50          144.49             5.05   \n",
       "3             6.70            51.85          145.00             5.08   \n",
       "4             6.74            51.85          145.00             5.17   \n",
       "\n",
       "   NETSOL_TRADE_RATE  NML_TRADE_RATE  OGDC_TRADE_RATE  PPL_TRADE_RATE  \\\n",
       "0              17.40           31.01            73.85          176.75   \n",
       "1              17.45           31.30            74.00          177.00   \n",
       "2              17.40           31.20            73.70          177.30   \n",
       "3              17.50           31.05            73.80          177.33   \n",
       "4              17.26           30.80            73.70          176.80   \n",
       "\n",
       "   PSO_TRADE_RATE  SEARL_TRADE_RATE  TRG_TRADE_RATE  \n",
       "0          200.80             64.05            1.37  \n",
       "1          200.99             64.00            1.40  \n",
       "2          201.03             63.10            1.38  \n",
       "3          201.12             60.80            1.31  \n",
       "4          201.45             62.00            1.40  "
      ]
     },
     "execution_count": 52,
     "metadata": {},
     "output_type": "execute_result"
    }
   ],
   "source": [
    "df=pd.read_csv('../MPT Data/ATRL.csv')\n",
    "df.drop(['ID','OPEN','HIGH','LOW','DATE_Time','DATE_TIME.1'],axis=1,inplace=True)\n",
    "df.columns=['TRADE_ENTRY_DATE','ATRL_CLOSE']\n",
    "\n",
    "Names=['bahl','EPCL','FCCL','LUCK','MCB','MLCF','NETSOL','NML',\n",
    "      'OGDC','PPL','PSO','SEARL','TRG']\n",
    "\n",
    "for i in range(len(Names)):\n",
    "    df1=pd.read_csv('../MPT Data/'+Names[i]+'.csv')\n",
    "    df1.drop(['TRADE_ENTRY_DATE','ID','OPEN','HIGH','LOW','DATE_Time','DATE_TIME.1'],axis=1,inplace=True)\n",
    "    df1.columns=[Names[i]+'_TRADE_RATE']\n",
    "    df=pd.concat([df,df1],axis=1)\n",
    "df.drop('TRADE_ENTRY_DATE',axis=1)"
   ]
  },
  {
   "cell_type": "markdown",
   "metadata": {},
   "source": [
    "## Saving File"
   ]
  },
  {
   "cell_type": "code",
   "execution_count": 56,
   "metadata": {},
   "outputs": [],
   "source": [
    "df.to_csv('../MPT Data/Combined.csv')"
   ]
  },
  {
   "cell_type": "markdown",
   "metadata": {},
   "source": [
    "## Loading Data"
   ]
  },
  {
   "cell_type": "code",
   "execution_count": 66,
   "metadata": {},
   "outputs": [],
   "source": [
    "df_stocks=pd.read_csv('../MPT Data/Combined.csv')\n",
    "df.drop('TRADE_ENTRY_DATE',axis=1,inplace=True)\n",
    "df.head()"
   ]
  },
  {
   "cell_type": "markdown",
   "metadata": {},
   "source": [
    "## Type Conversion"
   ]
  },
  {
   "cell_type": "code",
   "execution_count": 67,
   "metadata": {
    "scrolled": true
   },
   "outputs": [],
   "source": [
    "for _,columns in enumerate(df):\n",
    "    df[[columns]]=df[[columns]].astype('float')"
   ]
  },
  {
   "cell_type": "markdown",
   "metadata": {},
   "source": [
    "# Markowitz Model"
   ]
  },
  {
   "cell_type": "markdown",
   "metadata": {},
   "source": [
    "We will move ahead with the calculations for the optimization of the portfolio. Start with capturing the expected return and the variance of the portfolio chosen."
   ]
  },
  {
   "cell_type": "code",
   "execution_count": 91,
   "metadata": {},
   "outputs": [],
   "source": [
    "df1=df[:20]\n",
    "#Annualized Return\n",
    "mu = expected_returns.mean_historical_return(df1)\n",
    "#Sample Variance of Portfolio\n",
    "Sigma = risk_models.exp_cov(df1)"
   ]
  },
  {
   "cell_type": "markdown",
   "metadata": {},
   "source": [
    "Proceed by computing and storing the values for a portfolio weight with maximum Sharpe ratio and minimum volatility respectively."
   ]
  },
  {
   "cell_type": "code",
   "execution_count": 93,
   "metadata": {},
   "outputs": [
    {
     "name": "stdout",
     "output_type": "stream",
     "text": [
      "OrderedDict([('ATRL_CLOSE', 0.14556), ('bahl_TRADE_RATE', 0.03833), ('EPCL_TRADE_RATE', 0.13293), ('FCCL_TRADE_RATE', 0.04853), ('LUCK_TRADE_RATE', 0.41982), ('MCB_TRADE_RATE', -0.69535), ('MLCF_TRADE_RATE', 0.10114), ('NETSOL_TRADE_RATE', 0.1147), ('NML_TRADE_RATE', 0.14811), ('OGDC_TRADE_RATE', 0.50963), ('PPL_TRADE_RATE', 0.04772), ('PSO_TRADE_RATE', -0.01555), ('SEARL_TRADE_RATE', -0.0359), ('TRG_TRADE_RATE', 0.04033)])\n"
     ]
    }
   ],
   "source": [
    "#Max Sharpe Ratio - Tangent to the EF\n",
    "ef = EfficientFrontier(mu, Sigma,weight_bounds=(-1,1)) #weight bounds in negative allows shorting of stocks\n",
    "sharpe_pfolio=ef.max_sharpe() #May use add objective to ensure minimum zero weighting to individual stocks\n",
    "sharpe_pwt=ef.clean_weights()\n",
    "print(sharpe_pwt)"
   ]
  },
  {
   "cell_type": "code",
   "execution_count": 98,
   "metadata": {},
   "outputs": [
    {
     "name": "stdout",
     "output_type": "stream",
     "text": [
      "Expected annual return: 96.7%\n",
      "Annual volatility: 1.7%\n",
      "Sharpe Ratio: 39.97\n"
     ]
    },
    {
     "data": {
      "text/plain": [
       "(0.9672852800999363, 0.017445754261531027, 39.96876659196637)"
      ]
     },
     "execution_count": 98,
     "metadata": {},
     "output_type": "execute_result"
    }
   ],
   "source": [
    "ef.portfolio_performance(verbose=True, risk_free_rate = 0.27)"
   ]
  },
  {
   "cell_type": "markdown",
   "metadata": {},
   "source": [
    "This will provide you the weight of different holdings. In case you want to minimize ‘zero’ holding or weight feel free to use L2 regression. Additionally, the weight_bounds have been set from -1 to 1 for allowing computation of ‘shorting’ stocks. The same exercise will be undertaken for the minimum variance portfolio."
   ]
  },
  {
   "cell_type": "markdown",
   "metadata": {},
   "source": [
    "## Plotting the Efficient Frontier and Optimizing Portfolio Allocation"
   ]
  },
  {
   "cell_type": "markdown",
   "metadata": {},
   "source": [
    "The final step is the plot the efficient frontier for visual purposes, and calculate the asset allocation (i.e. no of shares to purchase or short) for a given dollar amount of a portfolio. For the purpose of this exercise, I have considered $10,000 — the default starting value on investopedia.\n",
    "Image for post"
   ]
  },
  {
   "cell_type": "code",
   "execution_count": 101,
   "metadata": {},
   "outputs": [
    {
     "name": "stdout",
     "output_type": "stream",
     "text": [
      "OrderedDict([('ATRL_CLOSE', 0.10029), ('bahl_TRADE_RATE', 0.0), ('EPCL_TRADE_RATE', 0.0), ('FCCL_TRADE_RATE', 0.03712), ('LUCK_TRADE_RATE', 0.10445), ('MCB_TRADE_RATE', 0.0), ('MLCF_TRADE_RATE', 0.05547), ('NETSOL_TRADE_RATE', 0.03999), ('NML_TRADE_RATE', 0.11362), ('OGDC_TRADE_RATE', 0.54266), ('PPL_TRADE_RATE', 0.0064), ('PSO_TRADE_RATE', 0.0), ('SEARL_TRADE_RATE', 0.0), ('TRG_TRADE_RATE', 0.0)])\n"
     ]
    }
   ],
   "source": [
    "#Min Volatility Portfolio\n",
    "ef1 = EfficientFrontier(mu, Sigma, weight_bounds=(0,1)) #weight bounds in negative allows shorting of stocks\n",
    "minvol=ef1.min_volatility()\n",
    "minvol_pwt=ef1.clean_weights()\n",
    "print(minvol_pwt)"
   ]
  },
  {
   "cell_type": "code",
   "execution_count": 102,
   "metadata": {},
   "outputs": [
    {
     "name": "stdout",
     "output_type": "stream",
     "text": [
      "{'ATRL_CLOSE': 12, 'FCCL_TRADE_RATE': 54, 'LUCK_TRADE_RATE': 20, 'MLCF_TRADE_RATE': 105, 'NETSOL_TRADE_RATE': 23, 'NML_TRADE_RATE': 37, 'OGDC_TRADE_RATE': 73}\n",
      "Leftover Fund value in$ after building minimum volatility portfolio is $1.10\n"
     ]
    }
   ],
   "source": [
    "# Allocate Portfolio Value in $ as required to show number of shares/stocks to buy, also bounds for shorting will affect allocation\n",
    "#Min Volatility Portfolio Allocation $10000\n",
    "latest_prices = discrete_allocation.get_latest_prices(df1)\n",
    "\n",
    "allocation_minv, rem_minv = discrete_allocation.DiscreteAllocation(minvol_pwt, latest_prices,\n",
    "                                                                   total_portfolio_value=10000).lp_portfolio()\n",
    "\n",
    "print(allocation_minv)\n",
    "print(\"Leftover Fund value in$ after building minimum volatility portfolio is ${:.2f}\".format(rem_minv))"
   ]
  },
  {
   "cell_type": "code",
   "execution_count": 103,
   "metadata": {},
   "outputs": [
    {
     "name": "stdout",
     "output_type": "stream",
     "text": [
      "Expected annual return: 25.2%\n",
      "Annual volatility: 1.3%\n",
      "Sharpe Ratio: -1.42\n"
     ]
    },
    {
     "data": {
      "text/plain": [
       "(0.25206467956680206, 0.012600007689924942, -1.4234372608787507)"
      ]
     },
     "execution_count": 103,
     "metadata": {},
     "output_type": "execute_result"
    }
   ],
   "source": [
    "ef1.portfolio_performance(verbose=True, risk_free_rate = 0.27)"
   ]
  },
  {
   "cell_type": "code",
   "execution_count": 104,
   "metadata": {},
   "outputs": [
    {
     "ename": "NameError",
     "evalue": "name 'pplt' is not defined",
     "output_type": "error",
     "traceback": [
      "\u001b[1;31m---------------------------------------------------------------------------\u001b[0m",
      "\u001b[1;31mNameError\u001b[0m                                 Traceback (most recent call last)",
      "\u001b[1;32m<ipython-input-104-d9056fb50272>\u001b[0m in \u001b[0;36m<module>\u001b[1;34m\u001b[0m\n\u001b[0;32m      1\u001b[0m \u001b[0mcl_obj\u001b[0m \u001b[1;33m=\u001b[0m \u001b[0mCLA\u001b[0m\u001b[1;33m(\u001b[0m\u001b[0mmu\u001b[0m\u001b[1;33m,\u001b[0m \u001b[0mSigma\u001b[0m\u001b[1;33m)\u001b[0m\u001b[1;33m\u001b[0m\u001b[1;33m\u001b[0m\u001b[0m\n\u001b[1;32m----> 2\u001b[1;33m \u001b[0max\u001b[0m \u001b[1;33m=\u001b[0m \u001b[0mpplt\u001b[0m\u001b[1;33m.\u001b[0m\u001b[0mplot_efficient_frontier\u001b[0m\u001b[1;33m(\u001b[0m\u001b[0mcl_obj\u001b[0m\u001b[1;33m,\u001b[0m \u001b[0mshowfig\u001b[0m \u001b[1;33m=\u001b[0m \u001b[1;32mFalse\u001b[0m\u001b[1;33m)\u001b[0m\u001b[1;33m\u001b[0m\u001b[1;33m\u001b[0m\u001b[0m\n\u001b[0m\u001b[0;32m      3\u001b[0m \u001b[0max\u001b[0m\u001b[1;33m.\u001b[0m\u001b[0mxaxis\u001b[0m\u001b[1;33m.\u001b[0m\u001b[0mset_major_formatter\u001b[0m\u001b[1;33m(\u001b[0m\u001b[0mFuncFormatter\u001b[0m\u001b[1;33m(\u001b[0m\u001b[1;32mlambda\u001b[0m \u001b[0mx\u001b[0m\u001b[1;33m,\u001b[0m \u001b[0m_\u001b[0m\u001b[1;33m:\u001b[0m \u001b[1;34m'{:.0%}'\u001b[0m\u001b[1;33m.\u001b[0m\u001b[0mformat\u001b[0m\u001b[1;33m(\u001b[0m\u001b[0mx\u001b[0m\u001b[1;33m)\u001b[0m\u001b[1;33m)\u001b[0m\u001b[1;33m)\u001b[0m\u001b[1;33m\u001b[0m\u001b[1;33m\u001b[0m\u001b[0m\n\u001b[0;32m      4\u001b[0m \u001b[0max\u001b[0m\u001b[1;33m.\u001b[0m\u001b[0myaxis\u001b[0m\u001b[1;33m.\u001b[0m\u001b[0mset_major_formatter\u001b[0m\u001b[1;33m(\u001b[0m\u001b[0mFuncFormatter\u001b[0m\u001b[1;33m(\u001b[0m\u001b[1;32mlambda\u001b[0m \u001b[0my\u001b[0m\u001b[1;33m,\u001b[0m \u001b[0m_\u001b[0m\u001b[1;33m:\u001b[0m \u001b[1;34m'{:.0%}'\u001b[0m\u001b[1;33m.\u001b[0m\u001b[0mformat\u001b[0m\u001b[1;33m(\u001b[0m\u001b[0my\u001b[0m\u001b[1;33m)\u001b[0m\u001b[1;33m)\u001b[0m\u001b[1;33m)\u001b[0m\u001b[1;33m\u001b[0m\u001b[1;33m\u001b[0m\u001b[0m\n\u001b[0;32m      5\u001b[0m \u001b[1;33m\u001b[0m\u001b[0m\n",
      "\u001b[1;31mNameError\u001b[0m: name 'pplt' is not defined"
     ]
    }
   ],
   "source": [
    "cl_obj = CLA(mu, Sigma)\n",
    "ax = pplt.plot_efficient_frontier(cl_obj, showfig = False)\n",
    "ax.xaxis.set_major_formatter(FuncFormatter(lambda x, _: '{:.0%}'.format(x)))\n",
    "ax.yaxis.set_major_formatter(FuncFormatter(lambda y, _: '{:.0%}'.format(y)))"
   ]
  },
  {
   "cell_type": "code",
   "execution_count": null,
   "metadata": {},
   "outputs": [],
   "source": []
  }
 ],
 "metadata": {
  "kernelspec": {
   "display_name": "Python 3",
   "language": "python",
   "name": "python3"
  },
  "language_info": {
   "codemirror_mode": {
    "name": "ipython",
    "version": 3
   },
   "file_extension": ".py",
   "mimetype": "text/x-python",
   "name": "python",
   "nbconvert_exporter": "python",
   "pygments_lexer": "ipython3",
   "version": "3.8.5"
  },
  "toc": {
   "base_numbering": 1,
   "nav_menu": {},
   "number_sections": true,
   "sideBar": true,
   "skip_h1_title": false,
   "title_cell": "Table of Contents",
   "title_sidebar": "Contents",
   "toc_cell": false,
   "toc_position": {
    "height": "calc(100% - 180px)",
    "left": "10px",
    "top": "150px",
    "width": "165px"
   },
   "toc_section_display": true,
   "toc_window_display": false
  }
 },
 "nbformat": 4,
 "nbformat_minor": 4
}
