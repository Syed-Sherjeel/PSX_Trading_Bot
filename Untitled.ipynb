{
 "cells": [
  {
   "cell_type": "code",
   "execution_count": 20,
   "metadata": {
    "scrolled": false
   },
   "outputs": [
    {
     "name": "stdout",
     "output_type": "stream",
     "text": [
      "Collecting PyPortfolioOpt\n",
      "  Using cached PyPortfolioOpt-1.2.7-py3-none-any.whl (48 kB)\n",
      "Requirement already satisfied: pandas>=0.19 in c:\\programdata\\anaconda3\\lib\\site-packages (from PyPortfolioOpt) (1.1.3)\n",
      "Requirement already satisfied: scipy<2.0,>=1.3 in c:\\programdata\\anaconda3\\lib\\site-packages (from PyPortfolioOpt) (1.5.2)\n",
      "Requirement already satisfied: numpy<2.0,>=1.12 in c:\\programdata\\anaconda3\\lib\\site-packages (from PyPortfolioOpt) (1.19.2)\n",
      "Collecting cvxopt<2.0,>=1.2\n",
      "  Using cached cvxopt-1.2.5.post1-cp38-cp38-win_amd64.whl (9.5 MB)\n",
      "Collecting cvxpy<2.0,>=1.0\n",
      "  Using cached cvxpy-1.1.7.tar.gz (1.0 MB)\n",
      "  Installing build dependencies: started\n",
      "  Installing build dependencies: finished with status 'done'\n",
      "  Getting requirements to build wheel: started\n",
      "  Getting requirements to build wheel: finished with status 'done'\n",
      "    Preparing wheel metadata: started\n",
      "    Preparing wheel metadata: finished with status 'done'\n",
      "Requirement already satisfied: python-dateutil>=2.7.3 in c:\\programdata\\anaconda3\\lib\\site-packages (from pandas>=0.19->PyPortfolioOpt) (2.8.1)\n",
      "Requirement already satisfied: pytz>=2017.2 in c:\\programdata\\anaconda3\\lib\\site-packages (from pandas>=0.19->PyPortfolioOpt) (2020.1)\n",
      "Collecting ecos>=2\n",
      "  Using cached ecos-2.0.7.post1.tar.gz (126 kB)\n",
      "Collecting osqp>=0.4.1\n",
      "  Using cached osqp-0.6.1-cp38-none-win_amd64.whl (153 kB)\n",
      "Collecting scs>=1.1.6\n",
      "  Using cached scs-2.1.2.tar.gz (3.5 MB)\n",
      "Requirement already satisfied: six>=1.5 in c:\\programdata\\anaconda3\\lib\\site-packages (from python-dateutil>=2.7.3->pandas>=0.19->PyPortfolioOpt) (1.15.0)\n",
      "Requirement already satisfied: future in c:\\programdata\\anaconda3\\lib\\site-packages (from osqp>=0.4.1->cvxpy<2.0,>=1.0->PyPortfolioOpt) (0.18.2)\n",
      "Building wheels for collected packages: cvxpy, ecos, scs\n",
      "  Building wheel for cvxpy (PEP 517): started\n",
      "  Building wheel for cvxpy (PEP 517): finished with status 'done'\n",
      "  Created wheel for cvxpy: filename=cvxpy-1.1.7-cp38-cp38-win_amd64.whl size=814606 sha256=1b26390a00afd6fdf3406e41e1e455ee713dbd7b0eca9e11e4b27bd9878eaaa8\n",
      "  Stored in directory: c:\\users\\s m sherjeel\\appdata\\local\\pip\\cache\\wheels\\51\\a4\\25\\decef34c7e5328b040c66f7bc3ca49bd6a22dae43f0230e848\n",
      "  Building wheel for ecos (setup.py): started\n",
      "  Building wheel for ecos (setup.py): finished with status 'done'\n",
      "  Created wheel for ecos: filename=ecos-2.0.7.post1-cp38-cp38-win_amd64.whl size=68364 sha256=a691a069af4d28dcd53c099becf67c038c64ff325d59c2efe44d5617f7fe0b2a\n",
      "  Stored in directory: c:\\users\\s m sherjeel\\appdata\\local\\pip\\cache\\wheels\\c3\\c1\\ce\\b551b0b3a40c990e1da2ec9aecff62f7c2d43cab8766368e82\n",
      "  Building wheel for scs (setup.py): started\n",
      "  Building wheel for scs (setup.py): finished with status 'done'\n",
      "  Created wheel for scs: filename=scs-2.1.2-cp38-cp38-win_amd64.whl size=119950 sha256=2df98ddcae5c41728631ad1e30cefe55cfc789da92c9388bb5e0ead113eef11e\n",
      "  Stored in directory: c:\\users\\s m sherjeel\\appdata\\local\\pip\\cache\\wheels\\64\\b7\\4b\\a5c555c1d94b8a25ac3f9da1bdd19ba9896f558d124de7d7ef\n",
      "Successfully built cvxpy ecos scs\n",
      "Installing collected packages: cvxopt, ecos, osqp, scs, cvxpy, PyPortfolioOpt\n",
      "Successfully installed PyPortfolioOpt-1.2.7 cvxopt-1.2.5.post1 cvxpy-1.1.7 ecos-2.0.7.post1 osqp-0.6.1 scs-2.1.2\n"
     ]
    }
   ],
   "source": [
    "!pip install PyPortfolioOpt"
   ]
  },
  {
   "cell_type": "code",
   "execution_count": 22,
   "metadata": {},
   "outputs": [],
   "source": [
    "import matplotlib.pyplot as plt\n",
    "import numpy as np\n",
    "import pandas as pd\n",
    "import pandas_datareader as web\n",
    "from matplotlib.ticker import FuncFormatter\n",
    "from pypfopt.efficient_frontier import EfficientFrontier \n",
    "from pypfopt import risk_models\n",
    "from pypfopt import expected_returns\n",
    "from pypfopt.cla import CLA\n",
    "from matplotlib.ticker import FuncFormatter"
   ]
  },
  {
   "cell_type": "code",
   "execution_count": 8,
   "metadata": {},
   "outputs": [
    {
     "ename": "NameError",
     "evalue": "name 'data' is not defined",
     "output_type": "error",
     "traceback": [
      "\u001b[1;31m---------------------------------------------------------------------------\u001b[0m",
      "\u001b[1;31mNameError\u001b[0m                                 Traceback (most recent call last)",
      "\u001b[1;32m<ipython-input-8-5f7e9a97372c>\u001b[0m in \u001b[0;36m<module>\u001b[1;34m\u001b[0m\n\u001b[0;32m      7\u001b[0m \u001b[1;31m#Retrieve stock price data and save just the dividend adjusted closing prices\u001b[0m\u001b[1;33m\u001b[0m\u001b[1;33m\u001b[0m\u001b[1;33m\u001b[0m\u001b[0m\n\u001b[0;32m      8\u001b[0m \u001b[1;32mfor\u001b[0m \u001b[0msymbol\u001b[0m \u001b[1;32min\u001b[0m \u001b[0mstocks\u001b[0m\u001b[1;33m:\u001b[0m\u001b[1;33m\u001b[0m\u001b[1;33m\u001b[0m\u001b[0m\n\u001b[1;32m----> 9\u001b[1;33m         \u001b[0mdata\u001b[0m\u001b[1;33m[\u001b[0m\u001b[0msymbol\u001b[0m\u001b[1;33m]\u001b[0m \u001b[1;33m=\u001b[0m \u001b[0mweb\u001b[0m\u001b[1;33m.\u001b[0m\u001b[0mDataReader\u001b[0m\u001b[1;33m(\u001b[0m\u001b[0msymbol\u001b[0m\u001b[1;33m,\u001b[0m \u001b[0mdata_source\u001b[0m\u001b[1;33m=\u001b[0m\u001b[0msource\u001b[0m\u001b[1;33m,\u001b[0m \u001b[0mstart\u001b[0m\u001b[1;33m=\u001b[0m\u001b[0mstart\u001b[0m\u001b[1;33m,\u001b[0m \u001b[0mend\u001b[0m\u001b[1;33m=\u001b[0m\u001b[0mend\u001b[0m\u001b[1;33m)\u001b[0m\u001b[1;33m[\u001b[0m\u001b[1;34m'Adj Close'\u001b[0m\u001b[1;33m]\u001b[0m\u001b[1;33m\u001b[0m\u001b[1;33m\u001b[0m\u001b[0m\n\u001b[0m\u001b[0;32m     10\u001b[0m \u001b[1;33m\u001b[0m\u001b[0m\n\u001b[0;32m     11\u001b[0m \u001b[1;31m#Calculate simple linear returns\u001b[0m\u001b[1;33m\u001b[0m\u001b[1;33m\u001b[0m\u001b[1;33m\u001b[0m\u001b[0m\n",
      "\u001b[1;31mNameError\u001b[0m: name 'data' is not defined"
     ]
    }
   ],
   "source": [
    "stocks = ['GOOGL', 'TM', 'KO', 'PEP']\n",
    "numAssets = len(stocks)\n",
    "source = 'yahoo'\n",
    "start = '2010-01-01'\n",
    "end = '2015-10-31'\n",
    "\n",
    "#Retrieve stock price data and save just the dividend adjusted closing prices\n",
    "for symbol in stocks:\n",
    "        data[symbol] = web.DataReader(symbol, data_source=source, start=start, end=end)['Adj Close']\n",
    "\n",
    "#Calculate simple linear returns\n",
    "returns = (data - data.shift(1)) / data.shift(1)"
   ]
  },
  {
   "cell_type": "code",
   "execution_count": null,
   "metadata": {},
   "outputs": [],
   "source": []
  }
 ],
 "metadata": {
  "kernelspec": {
   "display_name": "Python 3",
   "language": "python",
   "name": "python3"
  },
  "language_info": {
   "codemirror_mode": {
    "name": "ipython",
    "version": 3
   },
   "file_extension": ".py",
   "mimetype": "text/x-python",
   "name": "python",
   "nbconvert_exporter": "python",
   "pygments_lexer": "ipython3",
   "version": "3.8.5"
  },
  "toc": {
   "base_numbering": 1,
   "nav_menu": {},
   "number_sections": true,
   "sideBar": true,
   "skip_h1_title": false,
   "title_cell": "Table of Contents",
   "title_sidebar": "Contents",
   "toc_cell": false,
   "toc_position": {},
   "toc_section_display": true,
   "toc_window_display": false
  }
 },
 "nbformat": 4,
 "nbformat_minor": 4
}
